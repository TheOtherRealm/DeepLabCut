{
  "cells": [
    {
      "cell_type": "markdown",
      "metadata": {
        "id": "view-in-github",
        "colab_type": "text"
      },
      "source": [
        "<a href=\"https://colab.research.google.com/github/TheOtherRealm/DeepLabCut/blob/master/Demo2_OpenSimIKPipeline/Demo%202%20-%20Analyzing%20movement%20data%20with%20OpenSim%20scripting%20in%20Python.ipynb\" target=\"_parent\"><img src=\"https://colab.research.google.com/assets/colab-badge.svg\" alt=\"Open In Colab\"/></a>"
      ]
    },
    {
      "cell_type": "markdown",
      "metadata": {
        "id": "EhobipLVJg7S"
      },
      "source": [
        "# 2. Analyzing movement data with OpenSim scripting in Python\n"
      ]
    },
    {
      "cell_type": "markdown",
      "metadata": {
        "id": "SwX6QwGU0Jwj"
      },
      "source": [
        "## 2.1. Objectives"
      ]
    },
    {
      "cell_type": "markdown",
      "metadata": {
        "id": "4p_3qlB60Np3"
      },
      "source": [
        "**Purpose**\n",
        "\n",
        "The purpose of this tutorial is to demonstrate how [OpenSim](https://opensim.stanford.edu/) [[1]](https://doi.org/10.1109/TBME.2007.901024) can be used to preview motion capture data, and compute joint angles using inverse kinematics (IK), and use OpenSim's analysis tools to compute a quantity of interest from the IK solution.\n",
        "\n",
        "To diagnose movement disorders and study human movement, biomechanists frequently ask human subjects to perform movements in a motion capture laboratory and use computational tools to analyze these movements. A common step in analyzing a movement is to compute the joint angles of the subject during movement. OpenSim has tools for computing these quantities:\n",
        "\n",
        "*   **Inverse Kinematics (IK)** is used to compute joint angles.\n",
        "*   **Analyze Tool** is used to compute a quantity of interest from an OpenSim model."
      ]
    },
    {
      "cell_type": "markdown",
      "metadata": {
        "id": "6PpwC4C9HO1M"
      },
      "source": [
        "\n",
        "In this tutorial, you will:\n",
        "\n",
        "*   Become familiar with OpenSim's tools to visualize models, motions, and data.\n",
        "*   Solve an inverse kinematics problem using an OpenSim model and experimental marker data collected from OpenCap.\n",
        "*   Plot a quantity of interest based on the inverse kinematics solution.\n",
        "\n",
        "**Format**\n",
        "\n",
        "Each section of the tutorial guides you through certain tools within OpenSim and asks you to answer a few questions. The questions can be answered based on information from OpenSim and basic knowledge of the human musculoskeletal system. As you complete each section of the tutorial, feel free to explore OpenSim and the provided model further on your own."
      ]
    },
    {
      "cell_type": "markdown",
      "metadata": {
        "id": "ADllcxbsjTr8"
      },
      "source": [
        "## 2.2. Set up conda environment and install OpenSim"
      ]
    },
    {
      "cell_type": "markdown",
      "metadata": {
        "id": "mmmTuEI4HQJG"
      },
      "source": [
        "First, set up the environment by executing the following cell. In the following cell, you will use [`condacolab`](https://github.com/conda-incubator/condacolab) to install [`Miniconda`](https://docs.anaconda.com/miniconda/)."
      ]
    },
    {
      "cell_type": "code",
      "execution_count": 7,
      "metadata": {
        "id": "0w9LYQXx5TO4",
        "outputId": "da98fc22-b49b-49e0-d17d-4da9f1545f7f",
        "colab": {
          "base_uri": "https://localhost:8080/"
        }
      },
      "outputs": [
        {
          "output_type": "stream",
          "name": "stdout",
          "text": [
            "✨🍰✨ Everything looks OK!\n"
          ]
        }
      ],
      "source": [
        "!pip install -q condacolab\n",
        "import condacolab\n",
        "condacolab.install()"
      ]
    },
    {
      "cell_type": "markdown",
      "metadata": {
        "id": "vt5loGbdfKb8"
      },
      "source": [
        "Don't worry if after executing the previous cell you get an error saying that your session has failed. The reason for this is that `condacolab` needs to restart the session for the changes to take effect. Because of this, you have to execute the previous cell first, before executing any other cell."
      ]
    },
    {
      "cell_type": "markdown",
      "metadata": {
        "id": "cNHGuMza5TO4"
      },
      "source": [
        "Now, let's install the OpenSim conda package."
      ]
    },
    {
      "cell_type": "code",
      "execution_count": 8,
      "metadata": {
        "id": "vWf9ObZJ5TO5",
        "outputId": "df8faba2-b085-44cf-a7cc-0611c7d7e384",
        "colab": {
          "base_uri": "https://localhost:8080/"
        }
      },
      "outputs": [
        {
          "output_type": "stream",
          "name": "stdout",
          "text": [
            "Channels:\n",
            " - conda-forge\n",
            " - opensim-org\n",
            "Platform: linux-64\n",
            "Collecting package metadata (repodata.json): - \b\b\\ \b\b| \b\b/ \b\b- \b\b\\ \b\b| \b\b/ \b\b- \b\b\\ \b\b| \b\b/ \b\b- \b\b\\ \b\b| \b\b/ \b\b- \b\bdone\n",
            "Solving environment: | \b\b/ \b\b- \b\b\\ \b\b| \b\b/ \b\b- \b\b\\ \b\bdone\n",
            "\n",
            "\n",
            "==> WARNING: A newer version of conda exists. <==\n",
            "    current version: 24.11.3\n",
            "    latest version: 25.3.1\n",
            "\n",
            "Please update conda by running\n",
            "\n",
            "    $ conda update -n base -c conda-forge conda\n",
            "\n",
            "\n",
            "\n",
            "# All requested packages already installed.\n",
            "\n"
          ]
        }
      ],
      "source": [
        "!conda install opensim-org::opensim"
      ]
    },
    {
      "cell_type": "markdown",
      "metadata": {
        "id": "51viyamRzzZK"
      },
      "source": [
        "## 2.3. Preview the motion capture data"
      ]
    },
    {
      "cell_type": "markdown",
      "metadata": {
        "id": "Z9iDkg-QVVhm"
      },
      "source": [
        "To visualize the motion capture data we collected from OpenCap, we will use the new OpenSim Viewer. Excecute the following lines to install the OpenSim Viewer and its dependencies."
      ]
    },
    {
      "cell_type": "code",
      "execution_count": 9,
      "metadata": {
        "id": "06V_a98pyhGx",
        "outputId": "f06818cf-25fc-499a-c043-22f5af1e8bbc",
        "colab": {
          "base_uri": "https://localhost:8080/"
        }
      },
      "outputs": [
        {
          "output_type": "stream",
          "name": "stdout",
          "text": [
            "Requirement already satisfied: pygltflib in /usr/local/lib/python3.11/site-packages (1.16.4)\n",
            "Requirement already satisfied: dataclasses-json>=0.0.25 in /usr/local/lib/python3.11/site-packages (from pygltflib) (0.6.7)\n",
            "Requirement already satisfied: deprecated in /usr/local/lib/python3.11/site-packages (from pygltflib) (1.2.18)\n",
            "Requirement already satisfied: marshmallow<4.0.0,>=3.18.0 in /usr/local/lib/python3.11/site-packages (from dataclasses-json>=0.0.25->pygltflib) (3.26.1)\n",
            "Requirement already satisfied: typing-inspect<1,>=0.4.0 in /usr/local/lib/python3.11/site-packages (from dataclasses-json>=0.0.25->pygltflib) (0.9.0)\n",
            "Requirement already satisfied: wrapt<2,>=1.10 in /usr/local/lib/python3.11/site-packages (from deprecated->pygltflib) (1.17.2)\n",
            "Requirement already satisfied: packaging>=17.0 in /usr/local/lib/python3.11/site-packages (from marshmallow<4.0.0,>=3.18.0->dataclasses-json>=0.0.25->pygltflib) (24.2)\n",
            "Requirement already satisfied: mypy-extensions>=0.3.0 in /usr/local/lib/python3.11/site-packages (from typing-inspect<1,>=0.4.0->dataclasses-json>=0.0.25->pygltflib) (1.1.0)\n",
            "Requirement already satisfied: typing-extensions>=3.7.4 in /usr/local/lib/python3.11/site-packages (from typing-inspect<1,>=0.4.0->dataclasses-json>=0.0.25->pygltflib) (4.13.2)\n",
            "Channels:\n",
            " - conda-forge\n",
            " - opensim-org\n",
            "Platform: linux-64\n",
            "Collecting package metadata (repodata.json): - \b\b\\ \b\b| \b\b/ \b\b- \b\b\\ \b\b| \b\b/ \b\b- \b\b\\ \b\b| \b\b/ \b\b- \b\b\\ \b\b| \b\b/ \b\b- \b\b\\ \b\b| \b\b/ \b\b- \b\b\\ \b\b| \b\bdone\n",
            "Solving environment: - \b\b\\ \b\b| \b\b/ \b\b- \b\b\\ \b\b| \b\b/ \b\b- \b\b\\ \b\b| \b\bdone\n",
            "\n",
            "\n",
            "==> WARNING: A newer version of conda exists. <==\n",
            "    current version: 24.11.3\n",
            "    latest version: 25.3.1\n",
            "\n",
            "Please update conda by running\n",
            "\n",
            "    $ conda update -n base -c conda-forge conda\n",
            "\n",
            "\n",
            "\n",
            "# All requested packages already installed.\n",
            "\n",
            "fatal: destination path 'opensim-viewer-backend' already exists and is not an empty directory.\n"
          ]
        }
      ],
      "source": [
        "!pip install pygltflib\n",
        "!conda install -c conda-forge vtk\n",
        "\n",
        "# Mount OpenSim Viewer code base.\n",
        "!git clone https://github.com/opensim-org/opensim-viewer-backend.git\n",
        "\n",
        "# Import the viewport module.\n",
        "import sys\n",
        "sys.path.append('opensim-viewer-backend')\n",
        "import osimViewport"
      ]
    },
    {
      "cell_type": "markdown",
      "metadata": {
        "id": "-0nVeiJAXruu"
      },
      "source": [
        "The visualization works by converting OpenSim data and model files into glTF ([Graphics Library Transmission Format](https://en.wikipedia.org/wiki/GlTF)) files. These files are used by the OpenSim Viewer and are universally viewable by other publicly available tools (e.g. Blender, 3D Viewer on Windows, and many other third party tools)."
      ]
    },
    {
      "cell_type": "markdown",
      "metadata": {
        "id": "TIQp3TtGYMyQ"
      },
      "source": [
        "**Download files**\n",
        "\n",
        "First, let's download all the files needed for this demonstration. Run the following cell to generate a button labeled \"Download Files\". Click the button to download and extract the files into the working directory.  "
      ]
    },
    {
      "cell_type": "code",
      "execution_count": 10,
      "metadata": {
        "id": "EAb6JtzeYObU",
        "outputId": "6b571384-b226-4531-9222-dbc30720353c",
        "colab": {
          "base_uri": "https://localhost:8080/",
          "height": 49,
          "referenced_widgets": [
            "1cdfc52627ef43aeb61862244cb8a7ab",
            "4aaf24ad311e4ddc9e3bb50db748f7c8",
            "5f0a0b17bbce4ce4b3a834804eca3177"
          ]
        }
      },
      "outputs": [
        {
          "output_type": "display_data",
          "data": {
            "text/plain": [
              "Button(description='Download Files', icon='download', style=ButtonStyle(), tooltip='Click to download the file…"
            ],
            "application/vnd.jupyter.widget-view+json": {
              "version_major": 2,
              "version_minor": 0,
              "model_id": "1cdfc52627ef43aeb61862244cb8a7ab"
            }
          },
          "metadata": {}
        }
      ],
      "source": [
        "# @title Download the mocap data file, model file and setup files { display-mode: \"form\" }\n",
        "# @markdown After executing this cell, a download button will appear. Click the button to download and extract the zip file containing the \"Squats.trc\" mocap file.\n",
        "\n",
        "import ipywidgets as widgets\n",
        "from IPython.display import display\n",
        "import requests\n",
        "import zipfile\n",
        "import io\n",
        "\n",
        "# Define the function to download and extract the zip file\n",
        "def download_and_extract_zip(url):\n",
        "    try:\n",
        "        # Get the content of the URL\n",
        "        response = requests.get(url)\n",
        "        response.raise_for_status()\n",
        "\n",
        "        # Create a ZipFile object from the downloaded content\n",
        "        with zipfile.ZipFile(io.BytesIO(response.content)) as zip_ref:\n",
        "            # Extract all the contents into the working directory\n",
        "            zip_ref.extractall()\n",
        "            print(\"Extraction complete!\")\n",
        "    except requests.exceptions.RequestException as e:\n",
        "        print(f\"Failed to download the file: {e}\")\n",
        "    except zipfile.BadZipFile:\n",
        "        print(\"The file is not a valid zip file.\")\n",
        "    except Exception as e:\n",
        "        print(f\"An error occurred: {e}\")\n",
        "\n",
        "# Create a button to trigger the download and extraction\n",
        "download_button = widgets.Button(\n",
        "    description='Download Files',\n",
        "    disabled=False,\n",
        "    button_style='',\n",
        "    tooltip='Click to download the files needed by the demo',\n",
        "    icon='download'\n",
        ")\n",
        "\n",
        "# Define the button click event handler\n",
        "def on_button_click(b):\n",
        "    url = 'https://drive.google.com/uc?export=download&id=1Yqs_xX9MNIIp_QafzF25DEZGOR9e1TRK'\n",
        "    if url:\n",
        "        download_and_extract_zip(url)\n",
        "    else:\n",
        "        print(\"Please enter a valid URL.\")\n",
        "\n",
        "# Attach the event handler to the button\n",
        "download_button.on_click(on_button_click)\n",
        "\n",
        "# Display the widgets\n",
        "display(download_button)"
      ]
    },
    {
      "cell_type": "markdown",
      "metadata": {
        "id": "bjlOR8fym2Pl"
      },
      "source": [
        "To preview the data, we'll pull in a python module to visualize OpenSim supported files."
      ]
    },
    {
      "cell_type": "code",
      "execution_count": 12,
      "metadata": {
        "id": "oGTQE8Azh6p8",
        "outputId": "58bf4753-bd22-4014-aeba-2bfa690692d8",
        "colab": {
          "base_uri": "https://localhost:8080/",
          "height": 322
        }
      },
      "outputs": [
        {
          "output_type": "error",
          "ename": "NotADirectoryError",
          "evalue": "[Errno Unable to find file ] /content/Squats.trc",
          "traceback": [
            "\u001b[0;31m---------------------------------------------------------------------------\u001b[0m",
            "\u001b[0;31mNotADirectoryError\u001b[0m                        Traceback (most recent call last)",
            "\u001b[0;32m<ipython-input-12-625246e6a927>\u001b[0m in \u001b[0;36m<cell line: 0>\u001b[0;34m()\u001b[0m\n\u001b[1;32m      2\u001b[0m \u001b[0movp\u001b[0m \u001b[0;34m=\u001b[0m \u001b[0mosimViewport\u001b[0m\u001b[0;34m.\u001b[0m\u001b[0mosimViewport\u001b[0m\u001b[0;34m(\u001b[0m\u001b[0;34m)\u001b[0m\u001b[0;34m\u001b[0m\u001b[0;34m\u001b[0m\u001b[0m\n\u001b[1;32m      3\u001b[0m \u001b[0movp\u001b[0m\u001b[0;34m.\u001b[0m\u001b[0maddDataFile\u001b[0m\u001b[0;34m(\u001b[0m\u001b[0;34m'Squats.trc'\u001b[0m\u001b[0;34m)\u001b[0m\u001b[0;34m\u001b[0m\u001b[0;34m\u001b[0m\u001b[0m\n\u001b[0;32m----> 4\u001b[0;31m \u001b[0movp\u001b[0m\u001b[0;34m.\u001b[0m\u001b[0mshow\u001b[0m\u001b[0;34m(\u001b[0m\u001b[0;34m)\u001b[0m\u001b[0;34m\u001b[0m\u001b[0;34m\u001b[0m\u001b[0m\n\u001b[0m",
            "\u001b[0;32m/content/opensim-viewer-backend/osimViewport.py\u001b[0m in \u001b[0;36mshow\u001b[0;34m(self)\u001b[0m\n\u001b[1;32m     68\u001b[0m \u001b[0;34m\u001b[0m\u001b[0m\n\u001b[1;32m     69\u001b[0m     \u001b[0;32mdef\u001b[0m  \u001b[0mshow\u001b[0m\u001b[0;34m(\u001b[0m\u001b[0mself\u001b[0m\u001b[0;34m)\u001b[0m\u001b[0;34m:\u001b[0m\u001b[0;34m\u001b[0m\u001b[0;34m\u001b[0m\u001b[0m\n\u001b[0;32m---> 70\u001b[0;31m         \u001b[0mself\u001b[0m\u001b[0;34m.\u001b[0m\u001b[0msaveGltf\u001b[0m\u001b[0;34m(\u001b[0m\u001b[0;34m)\u001b[0m\u001b[0;34m\u001b[0m\u001b[0;34m\u001b[0m\u001b[0m\n\u001b[0m\u001b[1;32m     71\u001b[0m \u001b[0;34m\u001b[0m\u001b[0m\n\u001b[1;32m     72\u001b[0m     \u001b[0;32mdef\u001b[0m  \u001b[0msaveGltf\u001b[0m\u001b[0;34m(\u001b[0m\u001b[0mself\u001b[0m\u001b[0;34m,\u001b[0m \u001b[0msuggestedName\u001b[0m\u001b[0;34m=\u001b[0m\u001b[0;32mNone\u001b[0m\u001b[0;34m)\u001b[0m\u001b[0;34m:\u001b[0m\u001b[0;34m\u001b[0m\u001b[0;34m\u001b[0m\u001b[0m\n",
            "\u001b[0;32m/content/opensim-viewer-backend/osimViewport.py\u001b[0m in \u001b[0;36msaveGltf\u001b[0;34m(self, suggestedName)\u001b[0m\n\u001b[1;32m     72\u001b[0m     \u001b[0;32mdef\u001b[0m  \u001b[0msaveGltf\u001b[0m\u001b[0;34m(\u001b[0m\u001b[0mself\u001b[0m\u001b[0;34m,\u001b[0m \u001b[0msuggestedName\u001b[0m\u001b[0;34m=\u001b[0m\u001b[0;32mNone\u001b[0m\u001b[0;34m)\u001b[0m\u001b[0;34m:\u001b[0m\u001b[0;34m\u001b[0m\u001b[0;34m\u001b[0m\u001b[0m\n\u001b[1;32m     73\u001b[0m         \u001b[0;32mif\u001b[0m \u001b[0;34m(\u001b[0m\u001b[0mlen\u001b[0m\u001b[0;34m(\u001b[0m\u001b[0mself\u001b[0m\u001b[0;34m.\u001b[0m\u001b[0m_motions\u001b[0m\u001b[0;34m)\u001b[0m\u001b[0;34m==\u001b[0m\u001b[0;36m0\u001b[0m\u001b[0;34m)\u001b[0m\u001b[0;34m:\u001b[0m\u001b[0;34m\u001b[0m\u001b[0;34m\u001b[0m\u001b[0m\n\u001b[0;32m---> 74\u001b[0;31m             \u001b[0mgltfOutput\u001b[0m \u001b[0;34m=\u001b[0m \u001b[0mosimC\u001b[0m\u001b[0;34m.\u001b[0m\u001b[0mconvertNativeFileToGLTF\u001b[0m\u001b[0;34m(\u001b[0m\u001b[0mself\u001b[0m\u001b[0;34m.\u001b[0m\u001b[0m_modelFile\u001b[0m\u001b[0;34m,\u001b[0m \u001b[0mself\u001b[0m\u001b[0;34m.\u001b[0m\u001b[0m_options\u001b[0m\u001b[0;34m)\u001b[0m\u001b[0;34m\u001b[0m\u001b[0;34m\u001b[0m\u001b[0m\n\u001b[0m\u001b[1;32m     75\u001b[0m         \u001b[0;32melse\u001b[0m\u001b[0;34m:\u001b[0m\u001b[0;34m\u001b[0m\u001b[0;34m\u001b[0m\u001b[0m\n\u001b[1;32m     76\u001b[0m             \u001b[0mgltfOutput\u001b[0m \u001b[0;34m=\u001b[0m \u001b[0mosimC\u001b[0m\u001b[0;34m.\u001b[0m\u001b[0mconvertNativeFileSetToGLTF\u001b[0m\u001b[0;34m(\u001b[0m\u001b[0mself\u001b[0m\u001b[0;34m.\u001b[0m\u001b[0m_modelFile\u001b[0m\u001b[0;34m,\u001b[0m \u001b[0mself\u001b[0m\u001b[0;34m.\u001b[0m\u001b[0m_motions\u001b[0m\u001b[0;34m,\u001b[0m \u001b[0mself\u001b[0m\u001b[0;34m.\u001b[0m\u001b[0m_options\u001b[0m\u001b[0;34m)\u001b[0m\u001b[0;34m\u001b[0m\u001b[0;34m\u001b[0m\u001b[0m\n",
            "\u001b[0;32m/content/opensim-viewer-backend/osimConverters/__init__.py\u001b[0m in \u001b[0;36mconvertNativeFileToGLTF\u001b[0;34m(inFilePathOrURL, options)\u001b[0m\n\u001b[1;32m     11\u001b[0m \u001b[0;34m\u001b[0m\u001b[0m\n\u001b[1;32m     12\u001b[0m         \u001b[0;32mif\u001b[0m \u001b[0;34m(\u001b[0m\u001b[0mfile_extension\u001b[0m\u001b[0;34m==\u001b[0m\u001b[0;34m\".trc\"\u001b[0m \u001b[0;32mor\u001b[0m \u001b[0;34m\".trc.\"\u001b[0m \u001b[0;32min\u001b[0m \u001b[0minFilePathOrURL\u001b[0m\u001b[0;34m)\u001b[0m\u001b[0;34m:\u001b[0m\u001b[0;34m\u001b[0m\u001b[0;34m\u001b[0m\u001b[0m\n\u001b[0;32m---> 13\u001b[0;31m             \u001b[0mgltfJson\u001b[0m \u001b[0;34m=\u001b[0m \u001b[0mconvertTrc2Gltf\u001b[0m\u001b[0;34m(\u001b[0m\u001b[0minFilePathOrURL\u001b[0m\u001b[0;34m,\u001b[0m \u001b[0moptions\u001b[0m\u001b[0;34m)\u001b[0m\u001b[0;34m\u001b[0m\u001b[0;34m\u001b[0m\u001b[0m\n\u001b[0m\u001b[1;32m     14\u001b[0m         \u001b[0;32melif\u001b[0m \u001b[0;34m(\u001b[0m\u001b[0mfile_extension\u001b[0m\u001b[0;34m==\u001b[0m\u001b[0;34m\".c3d\"\u001b[0m \u001b[0;32mor\u001b[0m \u001b[0;34m\".c3d.\"\u001b[0m \u001b[0;32min\u001b[0m \u001b[0minFilePathOrURL\u001b[0m\u001b[0;34m)\u001b[0m\u001b[0;34m:\u001b[0m\u001b[0;34m\u001b[0m\u001b[0;34m\u001b[0m\u001b[0m\n\u001b[1;32m     15\u001b[0m             \u001b[0mgltfJson\u001b[0m \u001b[0;34m=\u001b[0m \u001b[0mconvertC3D2Gltf\u001b[0m\u001b[0;34m(\u001b[0m\u001b[0minFilePathOrURL\u001b[0m\u001b[0;34m,\u001b[0m \u001b[0moptions\u001b[0m\u001b[0;34m)\u001b[0m\u001b[0;34m\u001b[0m\u001b[0;34m\u001b[0m\u001b[0m\n",
            "\u001b[0;32m/content/opensim-viewer-backend/osimConverters/convertTrc2Gltf.py\u001b[0m in \u001b[0;36mconvertTrc2Gltf\u001b[0;34m(trcFilePath, options)\u001b[0m\n\u001b[1;32m     24\u001b[0m     \u001b[0mpath\u001b[0m \u001b[0;34m=\u001b[0m \u001b[0mPath\u001b[0m\u001b[0;34m(\u001b[0m\u001b[0mtrcFilePath\u001b[0m\u001b[0;34m)\u001b[0m\u001b[0;34m\u001b[0m\u001b[0;34m\u001b[0m\u001b[0m\n\u001b[1;32m     25\u001b[0m     \u001b[0;32mif\u001b[0m \u001b[0;32mnot\u001b[0m \u001b[0mpath\u001b[0m\u001b[0;34m.\u001b[0m\u001b[0mexists\u001b[0m\u001b[0;34m(\u001b[0m\u001b[0;34m)\u001b[0m\u001b[0;34m:\u001b[0m\u001b[0;34m\u001b[0m\u001b[0;34m\u001b[0m\u001b[0m\n\u001b[0;32m---> 26\u001b[0;31m         \u001b[0;32mraise\u001b[0m \u001b[0mNotADirectoryError\u001b[0m\u001b[0;34m(\u001b[0m\u001b[0;34m\"Unable to find file \"\u001b[0m\u001b[0;34m,\u001b[0m \u001b[0mpath\u001b[0m\u001b[0;34m.\u001b[0m\u001b[0mabsolute\u001b[0m\u001b[0;34m(\u001b[0m\u001b[0;34m)\u001b[0m\u001b[0;34m)\u001b[0m\u001b[0;34m\u001b[0m\u001b[0;34m\u001b[0m\u001b[0m\n\u001b[0m\u001b[1;32m     27\u001b[0m \u001b[0;34m\u001b[0m\u001b[0m\n\u001b[1;32m     28\u001b[0m     \u001b[0mgltfJson\u001b[0m \u001b[0;34m=\u001b[0m \u001b[0minitGltf\u001b[0m\u001b[0;34m(\u001b[0m\u001b[0;34m)\u001b[0m\u001b[0;34m\u001b[0m\u001b[0;34m\u001b[0m\u001b[0m\n",
            "\u001b[0;31mNotADirectoryError\u001b[0m: [Errno Unable to find file ] /content/Squats.trc"
          ]
        }
      ],
      "source": [
        "# Generate a glTF file from the marker data.\n",
        "ovp = osimViewport.osimViewport()\n",
        "ovp.addDataFile('Squats.trc')\n",
        "ovp.show()"
      ]
    },
    {
      "cell_type": "markdown",
      "metadata": {
        "id": "-ooHO9m13zen"
      },
      "source": [
        "Download the generated file locally, then drag and drop into the viewer below.\n"
      ]
    },
    {
      "cell_type": "code",
      "execution_count": null,
      "metadata": {
        "id": "Cuk2uza7yhGz"
      },
      "outputs": [],
      "source": [
        "# @title Download the generated GLTF file to your computer { display-mode: \"form\" }\n",
        "# @markdown After executing this cell, a button will appear to download the generated GLTF file to your computer.\n",
        "\n",
        "import ipywidgets as widgets\n",
        "from IPython.display import display\n",
        "from google.colab import files\n",
        "layout = widgets.Layout(width='250px')\n",
        "button = widgets.Button(description=\"Download the GLTF file!\", layout=layout)\n",
        "output = widgets.Output()\n",
        "\n",
        "def on_button_clicked(b):\n",
        "  # Display the message within the output widget.\n",
        "  with output:\n",
        "    files.download('Squats.gltf')\n",
        "\n",
        "button.on_click(on_button_clicked)\n",
        "display(button, output)"
      ]
    },
    {
      "cell_type": "code",
      "execution_count": null,
      "metadata": {
        "id": "gy5Xz1ftJx8s"
      },
      "outputs": [],
      "source": [
        "# @title Execute this cell to include the OpenSim Viewer { display-mode: \"form\" }\n",
        "# @markdown Open the downloaded GLTF file from the Opensim Viewer to visualize.\n",
        "\n",
        "from IPython.display import IFrame\n",
        "\n",
        "IFrame('https://dev.d7iaa9a9lxtm6.amplifyapp.com/?css=gui', width=700, height=400)"
      ]
    },
    {
      "cell_type": "markdown",
      "metadata": {
        "id": "ad2kW88oKPaw"
      },
      "source": [
        "## 2.4. Run an inverse kinematics problem"
      ]
    },
    {
      "cell_type": "markdown",
      "metadata": {
        "id": "sXZXzssqVmUN"
      },
      "source": [
        "Kinematics is the study of motion without considering the forces and moments that produce that motion [[4]](https://onlinelibrary.wiley.com/doi/book/10.1002/9780470549148). The purpose of inverse kinematics (IK) is to estimate the joint angles of a particular subject from experimental data. In this section, you will estimate a subject's joint angles during walking by performing an IK analysis using the subject scaled model and experimentally collected walking data.\n",
        "\n",
        "For each time step of recorded motion data, IK computes a set of joint angles that put the model in a configuration that \"best matches\" the experimental kinematics. OpenSim determines this \"best match\" by solving a weighted least squares optimization problem with the goal of minimizing marker error. Marker error is defined as the distance between an experimental marker and the corresponding model marker. Each marker has an associated weighting value, specifying how strongly that marker's error term should be minimized in the least squares problem. For each time step, the inverse kinematics tool solves for a vector of generalized coordinates (e.g., joint angles), $q$, that minimizes the weighted sum of marker errors, which is expressed as:\n",
        "\n",
        "$\\underset{q}{\\text{min}}\\Bigg[ \\sum_{i \\in \\text{markers}}{w_i || x_i^{\\text{exp}} - x_i(q) ||^2}^{}\\Bigg] $\n",
        "\n",
        "where $q$ is the vector of generalized coordinates (e.g., joint angles), $x_i^{\\text{exp}}$ is the position of the experimental marker $i$, $x_i(q)$ is the position of the corresponding model marker $i$ (which depends on $q$), and $w_i$ is the weight associated with marker $i$."
      ]
    },
    {
      "cell_type": "markdown",
      "metadata": {
        "id": "1ATo0wsJX66B"
      },
      "source": [
        "In this example we will use OpenSim's [`InverseKinematicsTool`](https://simtk.org/api_docs/opensim/api_docs451/classOpenSim_1_1InverseKinematicsTool.html) to solve the inverse kinematics problem. To learn more, visit the [Getting Started with Inverse Kinematics](https://opensimconfluence.atlassian.net/wiki/spaces/OpenSim/pages/53090032/Getting+Started+with+Inverse+Kinematics) page on OpenSim's Confluence documentation site."
      ]
    },
    {
      "cell_type": "markdown",
      "metadata": {
        "id": "G6wtd-OJaF6m"
      },
      "source": [
        "**Configure an *InverseKinematicsTool***\n",
        "\n",
        "The IK Tool helps us solve the Inverse Kinematics problem. We can pass the configuration file we downloaded earlier as a parameter (`ik_setup.xml`)."
      ]
    },
    {
      "cell_type": "code",
      "execution_count": null,
      "metadata": {
        "id": "DaP2nPJraF6m"
      },
      "outputs": [],
      "source": [
        "# Create an IK object using the configuration file.\n",
        "import opensim as osim\n",
        "inverse_kinematics_tool = osim.InverseKinematicsTool('ik_setup.xml')\n",
        "\n",
        "# Print some information of the config file to check that everything is correct.\n",
        "print('Inverse Kinematics Tool settings')\n",
        "print(f'Model File: {inverse_kinematics_tool.get_model_file()}')\n",
        "print(f'Marker File: {inverse_kinematics_tool.get_marker_file()}')\n",
        "print(f'Accuracy: {inverse_kinematics_tool.get_accuracy()}')\n",
        "print(f'Time Range: [{inverse_kinematics_tool.get_time_range(0)}, '\n",
        "      f'{inverse_kinematics_tool.get_time_range(1)}] s')\n",
        "\n",
        "\n",
        "# Print weights information\n",
        "print('Weights: ')\n",
        "task_set = inverse_kinematics_tool.get_IKTaskSet()\n",
        "for i in range(task_set.getSize()):\n",
        "    task = task_set.get(i)\n",
        "    print(f'{task.getName()}: {task.getWeight()}')"
      ]
    },
    {
      "cell_type": "markdown",
      "metadata": {
        "id": "lm09IBIac8QE"
      },
      "source": [
        "**Perform inverse kinematics**\n",
        "\n",
        "Finally, we run the IK tool of OpenSim. The results are the motion file (`inverse_kinematics.sto`) and a report of the marker errors during the solution (`_ik_marker_errors.sto`)."
      ]
    },
    {
      "cell_type": "code",
      "execution_count": null,
      "metadata": {
        "id": "k6EIzdm9dEEx"
      },
      "outputs": [],
      "source": [
        "# Run the IK tool.\n",
        "inverse_kinematics_tool.run()"
      ]
    },
    {
      "cell_type": "markdown",
      "metadata": {
        "id": "GLp_exuTePfI"
      },
      "source": [
        "**Plot marker errors and visualize the motion**\n",
        "\n",
        "The output file `_ik_marker_errors.sto` provides the markers errors associated with each frame of the generated motion. You can parse this file using a `TimeSeriesTable` and visualize the error obtained per frame."
      ]
    },
    {
      "cell_type": "code",
      "execution_count": null,
      "metadata": {
        "id": "aiBr4M-wxrRP"
      },
      "outputs": [],
      "source": [
        "# Load the marker errors into a TimeSeriesTable and print the column labels.\n",
        "table = osim.TimeSeriesTable('_ik_marker_errors.sto')\n",
        "print(table.getColumnLabels())"
      ]
    },
    {
      "cell_type": "markdown",
      "metadata": {
        "id": "-Ov2v2k9x5oe"
      },
      "source": [
        "We will plot the total squared error, the RMS error for the markers, and the maximum error for the markers. In the next cell you will extract this information from the motion file.\n"
      ]
    },
    {
      "cell_type": "code",
      "execution_count": null,
      "metadata": {
        "id": "Xhnx_ulsx6CS"
      },
      "outputs": [],
      "source": [
        "# Get columns we want to plot, and the independent column (i.e., time).\n",
        "marker_error_RMS = table.getDependentColumn('marker_error_RMS')\n",
        "marker_error_max = table.getDependentColumn('marker_error_max')\n",
        "time = table.getIndependentColumn()"
      ]
    },
    {
      "cell_type": "markdown",
      "metadata": {
        "id": "WfpRt8xMjhy3"
      },
      "source": [
        "Now, we can plot the marker errors."
      ]
    },
    {
      "cell_type": "code",
      "execution_count": null,
      "metadata": {
        "id": "w4J1bJGpzC3U"
      },
      "outputs": [],
      "source": [
        "import matplotlib.pyplot as plt\n",
        "\n",
        "# Plot the marker errors.\n",
        "fig, axs = plt.subplots(1, 1, figsize=(7, 5))\n",
        "axs.plot(time, 100*marker_error_RMS.to_numpy(), label='RMS marker error')\n",
        "axs.plot(time, 100*marker_error_max.to_numpy(), label='Max marker error')\n",
        "axs.set_xlim([time[0], time[-1]])\n",
        "axs.set_ylim([0, 10])\n",
        "axs.set_xlabel('time (s)')\n",
        "axs.set_ylabel('error (cm)')\n",
        "axs.set_title('Marker Errors')\n",
        "axs.grid()\n",
        "axs.legend()\n",
        "\n",
        "plt.show()"
      ]
    },
    {
      "cell_type": "markdown",
      "metadata": {
        "id": "_F4VGaDkmW-I"
      },
      "source": [
        "Use the following exercises to further explore the inverse kinematic solution.\n",
        "\n",
        "**<u>Exercise 1.</u>  Modify the [`InverseKinematicsTool`](https://simtk.org/api_docs/opensim/api_docs451/classOpenSim_1_1InverseKinematicsTool.html) we configured above to enable the property `report_marker_locations`. Solve the inverse kinematics problem again.**\n",
        "\n",
        "**<u>Exercise 2.</u>  Plot the experimental marker trajectories with the model marker trajectories based on new the output from Exercise 1 (`_ik_model_marker_locations.sto`). Which markers have the largest error?**"
      ]
    },
    {
      "cell_type": "markdown",
      "metadata": {
        "id": "5cDU1lcqTHb7"
      },
      "source": [
        "## 2.5. Visualize the inverse kinematics solution"
      ]
    },
    {
      "cell_type": "markdown",
      "metadata": {
        "id": "lO6Rw3dq8leY"
      },
      "source": [
        "Next, we will visualize the model and the associated motion computed by inverse kinematics using the OpenSim Viewer."
      ]
    },
    {
      "cell_type": "code",
      "execution_count": null,
      "metadata": {
        "id": "VTmYSalREdVc"
      },
      "outputs": [],
      "source": [
        "# Create a glTF file from the model and IK solution.\n",
        "ovp = osimViewport.osimViewport()\n",
        "ovp.addModelAndMotionFiles('LaiUhlrich2022_scaled.osim',\n",
        "                           ['inverse_kinematics.sto'])\n",
        "ovp.show()"
      ]
    },
    {
      "cell_type": "code",
      "execution_count": null,
      "metadata": {
        "id": "mvDc1leNFdqk"
      },
      "outputs": [],
      "source": [
        "# @title Download the generated GLTF file to your computer { display-mode: \"form\" }\n",
        "# @markdown After executing this cell, a button will appear to download the generated GLTF file to your computer.\n",
        "\n",
        "import ipywidgets as widgets\n",
        "from IPython.display import display\n",
        "from google.colab import files\n",
        "layout = widgets.Layout(width='250px')\n",
        "button = widgets.Button(description=\"Download the GLTF file!\", layout=layout)\n",
        "output = widgets.Output()\n",
        "\n",
        "def on_button_clicked(b):\n",
        "  # Display the message within the output widget.\n",
        "  with output:\n",
        "    files.download('LaiUhlrich2022_scaled.gltf')\n",
        "\n",
        "button.on_click(on_button_clicked)\n",
        "display(button, output)"
      ]
    },
    {
      "cell_type": "code",
      "execution_count": null,
      "metadata": {
        "id": "PxM4jMSrF1Eh"
      },
      "outputs": [],
      "source": [
        "# @title Execute this cell to include the OpenSim Viewer { display-mode: \"form\" }\n",
        "# @markdown Open the downloaded GLTF file from the Opensim Viewer to visualize.\n",
        "\n",
        "from IPython.display import IFrame\n",
        "\n",
        "IFrame('https://dev.d7iaa9a9lxtm6.amplifyapp.com/?css=gui', width=700, height=400)"
      ]
    },
    {
      "cell_type": "markdown",
      "metadata": {
        "id": "SzMh1MS8QazO"
      },
      "source": [
        "## 2.6. Analyze the inverse kinematics solution"
      ]
    },
    {
      "cell_type": "markdown",
      "metadata": {
        "id": "QL2BMH6tQiVV"
      },
      "source": [
        "OpenSim provides tools to analyze a motion and compute quantities of interest. This is typically done by using the OpenSim [`AnalyzeTool`](https://simtk.org/api_docs/opensim/api_docs451/classOpenSim_1_1AnalyzeTool.html) to perform analyses on a motion trajectory. Analyses that can be performed with the `AnalyzeTool` include [`BodyKinematics`](https://simtk.org/api_docs/opensim/api_docs451/classOpenSim_1_1BodyKinematics.html), [`PointKinematics`](https://simtk.org/api_docs/opensim/api_docs451/classOpenSim_1_1PointKinematics.html), and [`MuscleAnalysis`](https://simtk.org/api_docs/opensim/api_docs451/classOpenSim_1_1MuscleAnalysis.html). In this example we will use `BodyKinematics` to compute and plot the position of the model's center of center of mass."
      ]
    },
    {
      "cell_type": "markdown",
      "metadata": {
        "id": "cR5SdHfdYH30"
      },
      "source": [
        "A detailed explanation of the `AnalyzeTool` can be found on the [How to Use the Analysis Tool](https://opensimconfluence.atlassian.net/wiki/spaces/OpenSim/pages/53088479/How+to+Use+the+Analysis+Tool) page on Confluence."
      ]
    },
    {
      "cell_type": "markdown",
      "metadata": {
        "id": "oHeUXkItSy6D"
      },
      "source": [
        "**Create an *AnalyzeTool***\n",
        "\n",
        "The `AnalyzeTool` helps us perform analyses to compute quantities relevant for research questions or clinical assessment. We can pass a configuration file as a parameter. Here, we use the downloaded file `bodykin_setup.xml`."
      ]
    },
    {
      "cell_type": "code",
      "execution_count": null,
      "metadata": {
        "id": "r17DfremSy6E"
      },
      "outputs": [],
      "source": [
        "# Create an AnalyzeTool object using the configuration file.\n",
        "analyze_tool = osim.AnalyzeTool('bodykin_setup.xml')\n",
        "\n",
        "# Print some information of the config file to check that everything is correct.\n",
        "print(f'Name: {analyze_tool.getName()}')\n",
        "print(f'Model file: {analyze_tool.getModelFilename()}')\n",
        "print(f'Time Range: [{analyze_tool.getInitialTime()}, {analyze_tool.getFinalTime()}] s')\n",
        "print(f'Low-pass filter cutoff frequency: {analyze_tool.getLowpassCutoffFrequency()} Hz')"
      ]
    },
    {
      "cell_type": "markdown",
      "metadata": {
        "id": "fHgMyZc2Y6JO"
      },
      "source": [
        "**Run the *AnalyzeTool***\n",
        "\n",
        "Finally, we can run analyses by executing the run method of the `AnalyzeTool`."
      ]
    },
    {
      "cell_type": "code",
      "execution_count": null,
      "metadata": {
        "id": "VF3_KRo8Y6Jk"
      },
      "outputs": [],
      "source": [
        "# Run the AnalyzeTool.\n",
        "analyze_tool.run()"
      ]
    },
    {
      "cell_type": "markdown",
      "metadata": {
        "id": "lUy_Vm8izR0f"
      },
      "source": [
        "**Plot the results**\n",
        "\n",
        "After running the `AnalyzeTool`, a set of files named `*_BodyKinematics_{acc, vel, pos}_global.sto` are generated. These files contain the results of the tool execution, and you can parse them using a [`TimeSeriesTable`](https://simtk.org/api_docs/opensim/api_docs451/classOpenSim_1_1TimeSeriesTable__.html) to plot the results. The contents are the accelerations, velocities and positions of all bodies as well as the center of mass."
      ]
    },
    {
      "cell_type": "code",
      "execution_count": null,
      "metadata": {
        "id": "07K30qNozR0z"
      },
      "outputs": [],
      "source": [
        "# Use a TimeSeriesTable to load the results file.\n",
        "tableBodyKin = osim.TimeSeriesTable(\n",
        "    'LaiUhlrich2022_scaled_BodyKinematics_pos_global.sto')\n",
        "print(tableBodyKin.getColumnLabels())"
      ]
    },
    {
      "cell_type": "markdown",
      "metadata": {
        "id": "budvwlTaTHb9"
      },
      "source": [
        "Let's plot the model's center of mass y-position. First, we need to extract the relevant columns from the table."
      ]
    },
    {
      "cell_type": "code",
      "execution_count": null,
      "metadata": {
        "id": "hxG43RnlzR00"
      },
      "outputs": [],
      "source": [
        "# Get the center of mass position and the time vector.\n",
        "com_y_pos = tableBodyKin.getDependentColumn('center_of_mass_Y')\n",
        "time = tableBodyKin.getIndependentColumn()"
      ]
    },
    {
      "cell_type": "markdown",
      "metadata": {
        "id": "zLngF9DkzR00"
      },
      "source": [
        "Now, we can plot the positions."
      ]
    },
    {
      "cell_type": "code",
      "execution_count": null,
      "metadata": {
        "id": "ql-_ZYAizjw0"
      },
      "outputs": [],
      "source": [
        "import matplotlib.pyplot as plt\n",
        "\n",
        "# Plot the COM position.\n",
        "fig, axs = plt.subplots(1, 1, figsize=(7, 5))\n",
        "axs.plot(time, com_y_pos.to_numpy(), label='COM y-position')\n",
        "axs.set_xlim([time[0], time[-1]])\n",
        "axs.set_xlabel('time (s)')\n",
        "axs.set_ylabel('position (m)')\n",
        "axs.set_title('Center of Mass Position')\n",
        "axs.grid()\n",
        "axs.legend()\n",
        "\n",
        "plt.show()"
      ]
    },
    {
      "cell_type": "markdown",
      "metadata": {
        "id": "oK6v_gocKWSh"
      },
      "source": [
        "Use the following exercises to continuing analyzing the inverse kinematics solution.\n",
        "\n",
        "**<u>Exercise 1.</u> On your plot of the center of mass position, identify when motion events occur (e.g., deep squat, stand, etc.).**\n",
        "\n",
        "**<u>Exercise 2.</u> Plot the center of mass velocity in the y-direction. Is it consistent with the position trajectory? Explain.**"
      ]
    },
    {
      "cell_type": "markdown",
      "metadata": {
        "id": "i7rhPT2id6gg"
      },
      "source": [
        "## 2.7. Conclusion"
      ]
    },
    {
      "cell_type": "markdown",
      "metadata": {
        "id": "1XK9UgItWQMF"
      },
      "source": [
        "In this tutorial you previewed experimental data with the new OpenSim Viewer, performed inverse kinematics to compute joint angle trajectories, and used the `AnalyzeTool` to compute and plot the center of mass of the model during the motion."
      ]
    },
    {
      "cell_type": "markdown",
      "metadata": {
        "id": "lLWgd8Noun6Y"
      },
      "source": [
        "## 2.8. Useful Links"
      ]
    },
    {
      "cell_type": "markdown",
      "metadata": {
        "id": "m8M3dlT5xQcD"
      },
      "source": [
        "> **OpenSim Website:** https://opensim.stanford.edu/\n",
        ">\n",
        "> **OpenSim API Documentation:** https://simtk.org/api_docs/opensim/api_docs/\n",
        ">\n",
        "> **OpenSim Creator Website:** https://opensimcreator.com/\n",
        ">\n",
        "> **SimTK Website:** https://simtk.org/projects/opensim\n",
        ">\n",
        "> **Biomechanics of Movement's Course:** https://www.youtube.com/channel/UCDNGy0KKNLQ-ztcL5h2Z6zA\n",
        ">\n",
        "> **Webinar on Scaling and Inverse Kinematics in OpenSim:** https://www.youtube.com/watch?v=ZG7wzvQC6eU"
      ]
    },
    {
      "cell_type": "markdown",
      "metadata": {
        "id": "yIZL9H9ygQGU"
      },
      "source": [
        "## 2.9. Acknowledgments\n",
        "\n",
        "The experimental marker trajectories of the squat motion were collected by Alberto Casas Ortiz using OpenCap.\n",
        "\n",
        "Thanks to [OpenSimColab](https://simtk.org/projects/opencolab) project [[9]](https://doi.org/10.1080/10255842.2022.2104607) for creating the first OpenSim Conda package."
      ]
    },
    {
      "cell_type": "markdown",
      "metadata": {
        "id": "2rwqw1LFq6Lz"
      },
      "source": [
        "## 2.10. References"
      ]
    },
    {
      "cell_type": "markdown",
      "metadata": {
        "id": "TpbyAlHvfh8M"
      },
      "source": [
        "\n",
        "> [1].   Delp, S. L., Anderson, F. C., Arnold, A. S., Loan, P., Habib, A., John, C. T., Guendelman, E., & Thelen, D. G. (2007). **OpenSim: open-source software to create and analyze dynamic simulations of movement.** *IEEE Transactions on Bio-Medical Engineering*, 54(11), 1940–1950. https://doi.org/10.1109/TBME.2007.901024\n",
        ">\n",
        "> [2].   Delp, S. L., Loan, J. P., Hoy, M. G., Zajac, F. E., Topp, E. L., & Rosen, J. M. (1990). **An interactive graphics-based model of the lower extremity to study orthopaedic surgical procedures.** *IEEE Transactions on Bio-Medical Engineering*, 37(8), 757–767. https://doi.org/10.1109/10.102791\n",
        ">\n",
        "> [3]. Anderson, F. C., & Pandy, M. G. (1999). **A dynamic optimization solution for vertical jumping in three dimensions.** *Computer Methods in Biomechanics and Biomedical Engineering*, 2(3), 201–231. https://doi.org/10.1080/10255849908907988\n",
        ">\n",
        "> [4]. Winter, D. A. (1990). **The biomechanics and motor control of human movement** (2a ed.). *John Wiley & Sons*. https://onlinelibrary.wiley.com/doi/book/10.1002/9780470549148\n",
        ">\n",
        "> [5]. Kuo, A. D. (1998). **A least-squares estimation approach to improving the precision of inverse dynamics computations.** *Journal of Biomechanical Engineering*, 120(1), 148–159. https://doi.org/10.1115/1.2834295\n",
        ">\n",
        "> [6]. Thelen, D. G., & Anderson, F. C. (2006). **Using computed muscle control to generate forward dynamic simulations of human walking from experimental data.** *Journal of Biomechanics*, 39(6), 1107–1115. https://doi.org/10.1016/j.jbiomech.2005.02.010\n",
        ">\n",
        "> [7]. John, C.T., Anderson, F.C., Guendelman, E., Arnold, A.S., Delp, S.L. (21st October 2006). **An algorithm for generating muscle-actuated simulations of long-duration movements.** *Biomedical Computation at Stanford (BCATS) Symposium*, Stanford University, Poster Presentation. https://bcats.stanford.edu/previous_bcats/bcats06/pdf/BCATS_2006_abstract_book.pdf#page=31\n",
        ">\n",
        "> [8]. John, C. T., Anderson, F. C., Higginson, J. S., & Delp, S. L. (2013). **Stabilisation of walking by intrinsic muscle properties revealed in a three-dimensional muscle-driven simulation.** *Computer Methods in Biomechanics and Biomedical Engineering*, 16(4), 451–462. https://doi.org/10.1080/10255842.2011.627560\n",
        ">\n",
        "> [9] Mokhtarzadeh, H., Jiang, F., Zhao, S., & Malekipour, F. (2022). **OpenColab project: OpenSim in Google colaboratory to explore biomechanics on the web.** *Computer Methods in Biomechanics and Biomedical Engineering*, 1–9. https://doi.org/10.1080/10255842.2022.2104607"
      ]
    }
  ],
  "metadata": {
    "colab": {
      "provenance": [],
      "include_colab_link": true
    },
    "kernelspec": {
      "display_name": "cmbbe2024",
      "language": "python",
      "name": "python3"
    },
    "language_info": {
      "codemirror_mode": {
        "name": "ipython",
        "version": 3
      },
      "file_extension": ".py",
      "mimetype": "text/x-python",
      "name": "python",
      "nbconvert_exporter": "python",
      "pygments_lexer": "ipython3",
      "version": "3.10.14"
    },
    "widgets": {
      "application/vnd.jupyter.widget-state+json": {
        "1cdfc52627ef43aeb61862244cb8a7ab": {
          "model_module": "@jupyter-widgets/controls",
          "model_name": "ButtonModel",
          "model_module_version": "1.5.0",
          "state": {
            "_dom_classes": [],
            "_model_module": "@jupyter-widgets/controls",
            "_model_module_version": "1.5.0",
            "_model_name": "ButtonModel",
            "_view_count": null,
            "_view_module": "@jupyter-widgets/controls",
            "_view_module_version": "1.5.0",
            "_view_name": "ButtonView",
            "button_style": "",
            "description": "Download Files",
            "disabled": false,
            "icon": "download",
            "layout": "IPY_MODEL_4aaf24ad311e4ddc9e3bb50db748f7c8",
            "style": "IPY_MODEL_5f0a0b17bbce4ce4b3a834804eca3177",
            "tooltip": "Click to download the files needed by the demo"
          }
        },
        "4aaf24ad311e4ddc9e3bb50db748f7c8": {
          "model_module": "@jupyter-widgets/base",
          "model_name": "LayoutModel",
          "model_module_version": "1.2.0",
          "state": {
            "_model_module": "@jupyter-widgets/base",
            "_model_module_version": "1.2.0",
            "_model_name": "LayoutModel",
            "_view_count": null,
            "_view_module": "@jupyter-widgets/base",
            "_view_module_version": "1.2.0",
            "_view_name": "LayoutView",
            "align_content": null,
            "align_items": null,
            "align_self": null,
            "border": null,
            "bottom": null,
            "display": null,
            "flex": null,
            "flex_flow": null,
            "grid_area": null,
            "grid_auto_columns": null,
            "grid_auto_flow": null,
            "grid_auto_rows": null,
            "grid_column": null,
            "grid_gap": null,
            "grid_row": null,
            "grid_template_areas": null,
            "grid_template_columns": null,
            "grid_template_rows": null,
            "height": null,
            "justify_content": null,
            "justify_items": null,
            "left": null,
            "margin": null,
            "max_height": null,
            "max_width": null,
            "min_height": null,
            "min_width": null,
            "object_fit": null,
            "object_position": null,
            "order": null,
            "overflow": null,
            "overflow_x": null,
            "overflow_y": null,
            "padding": null,
            "right": null,
            "top": null,
            "visibility": null,
            "width": null
          }
        },
        "5f0a0b17bbce4ce4b3a834804eca3177": {
          "model_module": "@jupyter-widgets/controls",
          "model_name": "ButtonStyleModel",
          "model_module_version": "1.5.0",
          "state": {
            "_model_module": "@jupyter-widgets/controls",
            "_model_module_version": "1.5.0",
            "_model_name": "ButtonStyleModel",
            "_view_count": null,
            "_view_module": "@jupyter-widgets/base",
            "_view_module_version": "1.2.0",
            "_view_name": "StyleView",
            "button_color": null,
            "font_weight": ""
          }
        }
      }
    }
  },
  "nbformat": 4,
  "nbformat_minor": 0
}